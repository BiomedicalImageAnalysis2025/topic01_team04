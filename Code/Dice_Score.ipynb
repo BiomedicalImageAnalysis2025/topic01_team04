{
 "cells": [
  {
   "cell_type": "markdown",
   "id": "5d31651c",
   "metadata": {},
   "source": [
    "Yeast Cells \n",
    "Dice Score: self-implemented K means vs sklearn \n"
   ]
  },
  {
   "cell_type": "code",
   "execution_count": null,
   "id": "34949799",
   "metadata": {},
   "outputs": [],
   "source": [
    "import numpy as np\n",
    "import matplotlib.pyplot as plt\n",
    "import cv2"
   ]
  },
  {
   "cell_type": "code",
   "execution_count": null,
   "id": "842b166a",
   "metadata": {},
   "outputs": [],
   "source": [
    "from Functions.Dice_coefficient import dice_coefficient\n",
    "\n",
    "y_pred = cv2.imread('predicted_mask.png', cv2.IMREAD_GRAYSCALE) #sklearn clustering of Yeast Cellas\n",
    "y_true = cv2.imread('ground_truth_mask.png', cv2.IMREAD_GRAYSCALE)  # Self-implemented Kmeans of Yeast Cells \n",
    "\n",
    "dice_score = dice_coefficient(y_true, y_pred)\n",
    "\n",
    "print(f'Dice Score: {dice_score.numpy()}')"
   ]
  },
  {
   "cell_type": "markdown",
   "id": "789d00bb",
   "metadata": {},
   "source": [
    "Cell Nuclei  \n",
    "Dice Score: self-implemented K means vs sklearn "
   ]
  },
  {
   "cell_type": "code",
   "execution_count": null,
   "id": "22f73b44",
   "metadata": {},
   "outputs": [],
   "source": [
    "from Functions.Dice_coefficient import dice_coefficient\n",
    "\n",
    "y_pred = cv2.imread('predicted_mask.png', cv2.IMREAD_GRAYSCALE)  #sklearn clustering of Cell Nuclei\n",
    "y_true = cv2.imread('ground_truth_mask.png', cv2.IMREAD_GRAYSCALE)  # Self-implemented Kmeans of Cell Nuclei\n",
    "\n",
    "dice_score = dice_coefficient(y_true, y_pred)\n",
    "\n",
    "print(f'Dice Score: {dice_score.numpy()}')"
   ]
  },
  {
   "cell_type": "markdown",
   "id": "9f83d148",
   "metadata": {},
   "source": [
    "Durchschnittlicher Dice Score von Ground Truth und Kmeans Clustering in Plot dargestellt \n"
   ]
  },
  {
   "cell_type": "code",
   "execution_count": null,
   "id": "937bf3ae",
   "metadata": {},
   "outputs": [],
   "source": [
    "import os\n",
    "import numpy as np\n",
    "import cv2  \n",
    "import seaborn as sns\n",
    "import matplotlib.pyplot as plt\n",
    "import pandas as pd\n",
    "\n",
    "from Functions.Dice_coefficient import dice_coefficient\n",
    "\n",
    "# Dictionary mit Methoden und zugehörigen Ordnern\n",
    "methods = {\n",
    "    \"Otsu\": \"Pfad/zum/Clustered_Images_Otsu\",\n",
    "    \"KMeans\": \"Pfad/zum/Clustered_Images_KMeans\"\n",
    "}\n",
    "\n",
    "ground_truth_folder = \"Code/Original_Images/Otsu/Data/N2DL-HeLa/gt\"\n",
    "\n",
    "dice_scores = []\n",
    "\n",
    "# Schleife über Methoden\n",
    "for method_name, clustered_folder in methods.items():\n",
    "    clustered_images = sorted(os.listdir(clustered_folder))\n",
    "    \n",
    "    for img_name in clustered_images:\n",
    "        clustered_img_path = os.path.join(clustered_folder, img_name)\n",
    "        ground_truth_img_path = os.path.join(ground_truth_folder, img_name)\n",
    "\n",
    "        score = dice_coefficient(ground_truth_img_path, clustered_img_path)\n",
    "        dice_scores.append((method_name, score))\n",
    "\n",
    "# In DataFrame (nur Methode und Score)\n",
    "df = pd.DataFrame(dice_scores, columns=[\"Methode\", \"DiceScore\"])\n",
    "\n",
    "# Mittelwert pro Methode berechnen\n",
    "mean_df = df.groupby(\"Methode\", as_index=False).mean()\n",
    "\n",
    "# Plot nur der Durchschnittswerte\n",
    "plt.figure(figsize=(8,5))\n",
    "sns.barplot(data=mean_df, x=\"Methode\", y=\"DiceScore\")\n",
    "plt.title(\"Durchschnittlicher Dice Score pro Methode\")\n",
    "plt.ylim(0, 1)  # Dice Score liegt immer zwischen 0 und 1\n",
    "plt.tight_layout()\n",
    "plt.show()\n"
   ]
  }
 ],
 "metadata": {
  "language_info": {
   "name": "python"
  }
 },
 "nbformat": 4,
 "nbformat_minor": 5
}
