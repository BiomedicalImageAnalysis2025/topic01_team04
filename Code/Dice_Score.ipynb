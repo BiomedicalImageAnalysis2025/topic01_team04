{
 "cells": [
  {
   "cell_type": "markdown",
   "id": "5d31651c",
   "metadata": {},
   "source": [
    "Yeast Cells \n",
    "Dice Score: self-implemented K means vs sklearn \n"
   ]
  },
  {
   "cell_type": "code",
   "execution_count": null,
   "id": "34949799",
   "metadata": {},
   "outputs": [],
   "source": [
    "import numpy as np\n",
    "import matplotlib.pyplot as plt\n",
    "import cv2"
   ]
  },
  {
   "cell_type": "code",
   "execution_count": null,
   "id": "842b166a",
   "metadata": {},
   "outputs": [],
   "source": [
    "from Functions.Dice_coefficient import dice_coefficient\n",
    "\n",
    "y_pred = cv2.imread('predicted_mask.png', cv2.IMREAD_GRAYSCALE) #sklearn clustering of Yeast Cellas\n",
    "y_true = cv2.imread('ground_truth_mask.png', cv2.IMREAD_GRAYSCALE)  # Self-implemented Kmeans of Yeast Cells \n",
    "\n",
    "dice_score = dice_coefficient(y_true, y_pred)\n",
    "\n",
    "print(f'Dice Score: {dice_score.numpy()}')"
   ]
  },
  {
   "cell_type": "markdown",
   "id": "789d00bb",
   "metadata": {},
   "source": [
    "Cell Nuclei  \n",
    "Dice Score: self-implemented K means vs sklearn "
   ]
  },
  {
   "cell_type": "code",
   "execution_count": null,
   "id": "22f73b44",
   "metadata": {},
   "outputs": [],
   "source": [
    "from Functions.Dice_coefficient import dice_coefficient\n",
    "\n",
    "y_pred = cv2.imread('predicted_mask.png', cv2.IMREAD_GRAYSCALE)  #sklearn clustering of Cell Nuclei\n",
    "y_true = cv2.imread('ground_truth_mask.png', cv2.IMREAD_GRAYSCALE)  # Self-implemented Kmeans of Cell Nuclei\n",
    "\n",
    "dice_score = dice_coefficient(y_true, y_pred)\n",
    "\n",
    "print(f'Dice Score: {dice_score.numpy()}')"
   ]
  },
  {
   "cell_type": "code",
   "execution_count": null,
   "id": "b1f0f947",
   "metadata": {},
   "outputs": [],
   "source": []
  }
 ],
 "metadata": {
  "language_info": {
   "name": "python"
  }
 },
 "nbformat": 4,
 "nbformat_minor": 5
}
