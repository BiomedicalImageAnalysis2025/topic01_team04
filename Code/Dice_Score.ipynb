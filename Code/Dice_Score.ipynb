{
 "cells": [
  {
   "cell_type": "markdown",
   "id": "5d31651c",
   "metadata": {},
   "source": [
    "Yeast Cells \n",
    "Dice Score: self-implemented K means vs sklearn \n"
   ]
  },
  {
   "cell_type": "code",
   "execution_count": null,
   "id": "34949799",
   "metadata": {},
   "outputs": [],
   "source": [
    "import numpy as np\n",
    "import matplotlib.pyplot as plt\n",
    "import cv2"
   ]
  },
  {
   "cell_type": "code",
   "execution_count": null,
   "id": "842b166a",
   "metadata": {},
   "outputs": [],
   "source": [
    "from Functions.Dice_coefficient import dice_coefficient\n",
    "\n",
    "y_pred = cv2.imread('predicted_mask.png', cv2.IMREAD_GRAYSCALE) #sklearn clustering of Yeast Cellas\n",
    "y_true = cv2.imread('ground_truth_mask.png', cv2.IMREAD_GRAYSCALE)  # Self-implemented Kmeans of Yeast Cells \n",
    "\n",
    "dice_score = dice_coefficient(y_true, y_pred)\n",
    "\n",
    "print(f'Dice Score: {dice_score.numpy()}')"
   ]
  },
  {
   "cell_type": "markdown",
   "id": "789d00bb",
   "metadata": {},
   "source": [
    "Cell Nuclei  \n",
    "Dice Score: self-implemented K means vs sklearn "
   ]
  },
  {
   "cell_type": "code",
   "execution_count": null,
   "id": "22f73b44",
   "metadata": {},
   "outputs": [],
   "source": [
    "from Functions.Dice_coefficient import dice_coefficient\n",
    "\n",
    "y_pred = cv2.imread('predicted_mask.png', cv2.IMREAD_GRAYSCALE)  #sklearn clustering of Cell Nuclei\n",
    "y_true = cv2.imread('ground_truth_mask.png', cv2.IMREAD_GRAYSCALE)  # Self-implemented Kmeans of Cell Nuclei\n",
    "\n",
    "dice_score = dice_coefficient(y_true, y_pred)\n",
    "\n",
    "print(f'Dice Score: {dice_score.numpy()}')"
   ]
  },
  {
   "cell_type": "markdown",
   "id": "9f83d148",
   "metadata": {},
   "source": [
    "Dice Score von Ground Truth und Kmeans Clustering in Plot dargestellt \n"
   ]
  },
  {
   "cell_type": "code",
   "execution_count": null,
   "id": "937bf3ae",
   "metadata": {},
   "outputs": [],
   "source": [
    "import os\n",
    "import numpy as np\n",
    "import cv2  \n",
    "import seaborn as sns\n",
    "import matplotlib.pyplot as plt\n",
    "\n",
    "from Functions.Dice_coefficient import dice_coefficient\n",
    "\n",
    "\n",
    "# Pfade zu deinen Ordnern\n",
    "clustered_folder = \"Pfad/zum/Clustered_Images\"\n",
    "ground_truth_folder = \"Pfad/zum/Ground_Truth\"\n",
    "\n",
    "# Liste aller Bilder im Clustered Ordner\n",
    "clustered_images = sorted(os.listdir(clustered_folder))\n",
    "\n",
    "dice_scores = []\n",
    "\n",
    "for img_name in clustered_images:\n",
    "    # Lade Clustered Image\n",
    "    clustered_img_path = os.path.join(clustered_folder, img_name)\n",
    "\n",
    "    # Wenn nicht binär, wandle in binär um\n",
    "    #clustered_img = cv2.imread(clustered_img_path, cv2.IMREAD_GRAYSCALE)\n",
    "    \n",
    "    # Lade Ground Truth Image\n",
    "    ground_truth_img_path = os.path.join(ground_truth_folder, img_name)\n",
    "\n",
    "    # Wenn nicht binär, wandle in binär um\n",
    "    #ground_truth_img = cv2.imread(ground_truth_img_path, cv2.IMREAD_GRAYSCALE)\n",
    "    \n",
    "    \n",
    "    # Berechne Dice Score\n",
    "    score = dice_coefficient(ground_truth_img_path, clustered_img_path)\n",
    "    dice_scores.append((img_name, score))\n",
    "\n",
    "# Ergebnisse in ein DataFrame für Seaborn\n",
    "import pandas as pd\n",
    "df = pd.DataFrame(dice_scores, columns=[\"Image\", \"DiceScore\"])\n",
    "\n",
    "# Plot mit Seaborn\n",
    "plt.figure(figsize=(12,6))\n",
    "sns.barplot(data=df, x=\"Image\", y=\"DiceScore\")\n",
    "plt.xticks(rotation=90)\n",
    "plt.title(\"Dice Scores der Bilder\")\n",
    "plt.tight_layout()\n",
    "plt.show()\n"
   ]
  }
 ],
 "metadata": {
  "language_info": {
   "name": "python"
  }
 },
 "nbformat": 4,
 "nbformat_minor": 5
}
