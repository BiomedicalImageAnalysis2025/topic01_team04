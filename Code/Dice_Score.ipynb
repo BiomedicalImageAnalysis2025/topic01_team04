{
 "cells": [
  {
   "cell_type": "markdown",
   "id": "5d31651c",
   "metadata": {},
   "source": [
    "Yeast Cells \n",
    "Dice Score: self-implemented K means vs sklearn "
   ]
  },
  {
   "cell_type": "code",
   "execution_count": null,
   "id": "842b166a",
   "metadata": {},
   "outputs": [],
   "source": [
    "from Functions.Dice_score import dice_coefficient\n",
    "\n",
    "y_pred = cv2.imread('predicted_mask.png', cv2.IMREAD_GRAYSCALE) / 255 #sklearn\n",
    "y_true = cv2.imread('ground_truth_mask.png', cv2.IMREAD_GRAYSCALE) /255 # Self-implemented Kmeans\n",
    "\n",
    "dice_score = dice_coefficient(y_true, y_pred)\n",
    "\n",
    "print(f'Dice Score: {dice_score.numpy()}')"
   ]
  },
  {
   "cell_type": "markdown",
   "id": "5c077849",
   "metadata": {},
   "source": []
  },
  {
   "cell_type": "markdown",
   "id": "c3bd9d9b",
   "metadata": {},
   "source": []
  }
 ],
 "metadata": {
  "language_info": {
   "name": "python"
  }
 },
 "nbformat": 4,
 "nbformat_minor": 5
}
