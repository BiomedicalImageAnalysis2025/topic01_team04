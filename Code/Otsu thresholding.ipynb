{
 "cells": [
  {
   "cell_type": "markdown",
   "id": "b4321e43",
   "metadata": {},
   "source": [
    "### 1.1 Import Libraries"
   ]
  },
  {
   "cell_type": "code",
   "execution_count": 12,
   "id": "2cb81182",
   "metadata": {},
   "outputs": [],
   "source": [
    "import cv2\n",
    "import numpy as np\n",
    "import matplotlib.pyplot as plt"
   ]
  },
  {
   "cell_type": "markdown",
   "id": "164e10db",
   "metadata": {},
   "source": [
    "### 1.2 Import custom Funktions for Otsu thresholding"
   ]
  },
  {
   "cell_type": "code",
   "execution_count": 13,
   "id": "e9c95d32",
   "metadata": {},
   "outputs": [
    {
     "ename": "IndentationError",
     "evalue": "expected an indented block (Otsu_thresholding.py, line 73)",
     "output_type": "error",
     "traceback": [
      "Traceback \u001b[0;36m(most recent call last)\u001b[0m:\n",
      "\u001b[0m  File \u001b[1;32m~/Library/Python/3.9/lib/python/site-packages/IPython/core/interactiveshell.py:3550\u001b[0m in \u001b[1;35mrun_code\u001b[0m\n    exec(code_obj, self.user_global_ns, self.user_ns)\u001b[0m\n",
      "\u001b[0;36m  Cell \u001b[0;32mIn[13], line 1\u001b[0;36m\n\u001b[0;31m    from Functions.Otsu_thresholding import otsu_thresholding\u001b[0;36m\n",
      "\u001b[0;36m  File \u001b[0;32m~/Desktop/topic01_team04/Code/Functions/Otsu_thresholding.py:73\u001b[0;36m\u001b[0m\n\u001b[0;31m    \"\"\"\u001b[0m\n\u001b[0m    ^\u001b[0m\n\u001b[0;31mIndentationError\u001b[0m\u001b[0;31m:\u001b[0m expected an indented block\n"
     ]
    }
   ],
   "source": [
    "from Functions.Otsu_thresholding import otsu_thresholding\n",
    "from Functions.Otsu_thresholding import plot_histogram\n",
    "from Functions.Otsu_thresholding import rgb_to_grayscale\n",
    "from Functions.Otsu_thresholding import display_images\n",
    "from Functions.Otsu_thresholding import save_image"
   ]
  },
  {
   "cell_type": "markdown",
   "id": "9e549251",
   "metadata": {},
   "source": [
    "### 1.3 Load original images"
   ]
  },
  {
   "cell_type": "code",
   "execution_count": null,
   "id": "e29417c3",
   "metadata": {},
   "outputs": [
    {
     "ename": "NameError",
     "evalue": "name 'display_image' is not defined",
     "output_type": "error",
     "traceback": [
      "\u001b[0;31m---------------------------------------------------------------------------\u001b[0m",
      "\u001b[0;31mNameError\u001b[0m                                 Traceback (most recent call last)",
      "Cell \u001b[0;32mIn[11], line 4\u001b[0m\n\u001b[1;32m      1\u001b[0m t13 \u001b[38;5;241m=\u001b[39m np\u001b[38;5;241m.\u001b[39mcopy(plt\u001b[38;5;241m.\u001b[39mimread(\u001b[38;5;124m\"\u001b[39m\u001b[38;5;124m/Users/daviddulkies/Desktop/topic01_team04/Code/Original_Images/Otsu/Data/N2DL-HeLa/img/t13.tif\u001b[39m\u001b[38;5;124m\"\u001b[39m))\n\u001b[0;32m----> 4\u001b[0m \u001b[43mdisplay_image\u001b[49m(t13, \u001b[38;5;124m\"\u001b[39m\u001b[38;5;124mOriginal_t13\u001b[39m\u001b[38;5;124m\"\u001b[39m)\n",
      "\u001b[0;31mNameError\u001b[0m: name 'display_image' is not defined"
     ]
    }
   ],
   "source": [
    "t13 = np.copy(plt.imread(\"/Users/daviddulkies/Desktop/topic01_team04/Code/Original_Images/Otsu/Data/N2DL-HeLa/img/t13.tif\"))\n",
    "\n",
    "\n",
    "display_images(t13, \"Original_t13\")"
   ]
  }
 ],
 "metadata": {
  "kernelspec": {
   "display_name": "Python 3",
   "language": "python",
   "name": "python3"
  },
  "language_info": {
   "codemirror_mode": {
    "name": "ipython",
    "version": 3
   },
   "file_extension": ".py",
   "mimetype": "text/x-python",
   "name": "python",
   "nbconvert_exporter": "python",
   "pygments_lexer": "ipython3",
   "version": "3.9.6"
  }
 },
 "nbformat": 4,
 "nbformat_minor": 5
}
