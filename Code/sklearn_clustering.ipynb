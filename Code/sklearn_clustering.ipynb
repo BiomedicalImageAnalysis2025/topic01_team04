{
 "cells": [
  {
   "cell_type": "code",
   "execution_count": null,
   "id": "6fa27348",
   "metadata": {},
   "outputs": [
    {
     "ename": "ModuleNotFoundError",
     "evalue": "No module named 'sklearn'",
     "output_type": "error",
     "traceback": [
      "\u001b[0;31m---------------------------------------------------------------------------\u001b[0m",
      "\u001b[0;31mModuleNotFoundError\u001b[0m                       Traceback (most recent call last)",
      "Cell \u001b[0;32mIn[4], line 3\u001b[0m\n\u001b[1;32m      1\u001b[0m \u001b[38;5;28;01mfrom\u001b[39;00m\u001b[38;5;250m \u001b[39m\u001b[38;5;21;01mPIL\u001b[39;00m\u001b[38;5;250m \u001b[39m\u001b[38;5;28;01mimport\u001b[39;00m Image\n\u001b[1;32m      2\u001b[0m \u001b[38;5;28;01mimport\u001b[39;00m\u001b[38;5;250m \u001b[39m\u001b[38;5;21;01mnumpy\u001b[39;00m\u001b[38;5;250m \u001b[39m\u001b[38;5;28;01mas\u001b[39;00m\u001b[38;5;250m \u001b[39m\u001b[38;5;21;01mnp\u001b[39;00m\n\u001b[0;32m----> 3\u001b[0m \u001b[38;5;28;01mfrom\u001b[39;00m\u001b[38;5;250m \u001b[39m\u001b[38;5;21;01msklearn\u001b[39;00m\u001b[38;5;21;01m.\u001b[39;00m\u001b[38;5;21;01mcluster\u001b[39;00m\u001b[38;5;250m \u001b[39m\u001b[38;5;28;01mimport\u001b[39;00m KMeans\n\u001b[1;32m      4\u001b[0m \u001b[38;5;28;01mimport\u001b[39;00m\u001b[38;5;250m \u001b[39m\u001b[38;5;21;01mmatplotlib\u001b[39;00m\u001b[38;5;21;01m.\u001b[39;00m\u001b[38;5;21;01mpyplot\u001b[39;00m\u001b[38;5;250m \u001b[39m\u001b[38;5;28;01mas\u001b[39;00m\u001b[38;5;250m \u001b[39m\u001b[38;5;21;01mplt\u001b[39;00m\n\u001b[1;32m      8\u001b[0m image_path \u001b[38;5;241m=\u001b[39m \u001b[38;5;124m'\u001b[39m\u001b[38;5;124mOriginal_Images/Clustering/Data/Cell_Nuclei.tiff\u001b[39m\u001b[38;5;124m'\u001b[39m\n",
      "\u001b[0;31mModuleNotFoundError\u001b[0m: No module named 'sklearn'"
     ]
    }
   ],
   "source": [
    "from PIL import Image\n",
    "import numpy as np\n",
    "from sklearn.cluster import KMeans\n",
    "import matplotlib.pyplot as plt\n",
    "\n",
    "\n",
    "\n",
    "image_path = 'Original_Images/Clustering/Data/Cell_Nuclei.tiff'\n",
    "\n",
    "\n",
    "# Bild korrekt laden\n",
    "img = Image.open(image_path).convert('RGB')\n",
    "img = img.resize((200, 200))  # Gleiche Größe für beide Methoden\n",
    "img_np = np.array(img)  # NumPy-Array (H, W, 3)\n",
    "height, width, _ = img_np.shape\n",
    "\n",
    "# Pixel-Daten vorbereiten\n",
    "pixels = img_np.reshape(-1, 3)\n",
    "\n",
    "# KMeans-Clustering\n",
    "k = 2\n",
    "kmeans_sklearn = KMeans(n_clusters=k, random_state=42)\n",
    "kmeans_sklearn.fit(pixels)\n",
    "\n",
    "labels_sklearn = kmeans_sklearn.labels_\n",
    "centers_sklearn = kmeans_sklearn.cluster_centers_\n",
    "clustered_img = centers_sklearn[labels_sklearn].reshape((height, width, 3)).astype(np.uint8)\n",
    "\n",
    "# Ergebnis anzeigen\n",
    "plt.figure(figsize=(12, 5))\n",
    "plt.subplot(1, 2, 1)\n",
    "plt.imshow(clustered_img)\n",
    "\n",
    "plt.show()"
   ]
  },
  {
   "cell_type": "code",
   "execution_count": 3,
   "id": "07059895",
   "metadata": {},
   "outputs": [
    {
     "ename": "NameError",
     "evalue": "name 'KMeans' is not defined",
     "output_type": "error",
     "traceback": [
      "\u001b[0;31m---------------------------------------------------------------------------\u001b[0m",
      "\u001b[0;31mNameError\u001b[0m                                 Traceback (most recent call last)",
      "Cell \u001b[0;32mIn[3], line 15\u001b[0m\n\u001b[1;32m     13\u001b[0m \u001b[38;5;66;03m# KMeans-Clustering\u001b[39;00m\n\u001b[1;32m     14\u001b[0m k \u001b[38;5;241m=\u001b[39m \u001b[38;5;241m2\u001b[39m\n\u001b[0;32m---> 15\u001b[0m kmeans_sklearn \u001b[38;5;241m=\u001b[39m \u001b[43mKMeans\u001b[49m(n_clusters\u001b[38;5;241m=\u001b[39mk, random_state\u001b[38;5;241m=\u001b[39m\u001b[38;5;241m42\u001b[39m)\n\u001b[1;32m     16\u001b[0m kmeans_sklearn\u001b[38;5;241m.\u001b[39mfit(pixels)\n\u001b[1;32m     18\u001b[0m labels_sklearn \u001b[38;5;241m=\u001b[39m kmeans_sklearn\u001b[38;5;241m.\u001b[39mlabels_\n",
      "\u001b[0;31mNameError\u001b[0m: name 'KMeans' is not defined"
     ]
    }
   ],
   "source": [
    "\n",
    "YeastCell_path = 'Original_Images/Clustering/Data/Yeast_Cells.jpg'\n",
    "\n",
    "\n",
    "# Bild korrekt laden\n",
    "img = Image.open(YeastCell_path).convert('RGB')\n",
    "img = img.resize((200, 200))  # Gleiche Größe für beide Methoden\n",
    "img_np = np.array(img)  # NumPy-Array (H, W, 3)\n",
    "height, width, _ = img_np.shape\n",
    "\n",
    "# Pixel-Daten vorbereiten\n",
    "pixels = img_np.reshape(-1, 3)\n",
    "\n",
    "# KMeans-Clustering\n",
    "k = 2\n",
    "kmeans_sklearn = KMeans(n_clusters=k, random_state=42)\n",
    "kmeans_sklearn.fit(pixels)\n",
    "\n",
    "labels_sklearn = kmeans_sklearn.labels_\n",
    "centers_sklearn = kmeans_sklearn.cluster_centers_\n",
    "clustered_img = centers_sklearn[labels_sklearn].reshape((height, width, 3)).astype(np.uint8)\n",
    "\n",
    "# Ergebnis anzeigen\n",
    "plt.figure(figsize=(12, 5))\n",
    "plt.subplot(1, 2, 1)\n",
    "plt.imshow(clustered_img)\n",
    "\n",
    "plt.show()"
   ]
  }
 ],
 "metadata": {
  "kernelspec": {
   "display_name": "Python 3",
   "language": "python",
   "name": "python3"
  },
  "language_info": {
   "codemirror_mode": {
    "name": "ipython",
    "version": 3
   },
   "file_extension": ".py",
   "mimetype": "text/x-python",
   "name": "python",
   "nbconvert_exporter": "python",
   "pygments_lexer": "ipython3",
   "version": "3.9.6"
  }
 },
 "nbformat": 4,
 "nbformat_minor": 5
}
