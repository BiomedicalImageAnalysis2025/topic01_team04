{
 "cells": [
  {
   "cell_type": "markdown",
   "id": "3545bf35",
   "metadata": {},
   "source": [
    "# Evaluation of intended filters\n",
    "\n",
    "Here we want to find out which filter (Gaussian or Bilateral) works best in comparison to the unfiltered images using the Dice score and the image Otsu_t13.tiff"
   ]
  },
  {
   "cell_type": "code",
   "execution_count": 1,
   "id": "6df53002",
   "metadata": {},
   "outputs": [],
   "source": [
    "import numpy as np\n",
    "import matplotlib.pyplot as plt\n",
    "import os # To save images\n",
    "from matplotlib import colors # To convert image models"
   ]
  },
  {
   "cell_type": "code",
   "execution_count": 2,
   "id": "ba3ca4a0",
   "metadata": {},
   "outputs": [],
   "source": [
    "#from Functions.KMeans import split_channels\n",
    "#from Functions.KMeans import init_centroids\n",
    "#from Functions.KMeans import euclidean_distance_3d\n",
    "#from Functions.KMeans import assign_to_centroids_kdtree\n",
    "#from Functions.KMeans import update_centroids\n",
    "#from Functions.KMeans import kmeans_clusteringGrayscale_kdtree\n",
    "#import os\n",
    "from Functions.FinalKMeans import preprocess_rgb\n",
    "from Functions.FinalKMeans import preprocess_grayscale\n",
    "from Functions.FinalKMeans import preprocess_hsv\n",
    "from Functions.FinalKMeans import preprocess_image\n",
    "from Functions.FinalKMeans import init_centroids\n",
    "from Functions.FinalKMeans import assign_to_centroids\n",
    "from Functions.FinalKMeans import update_centroids\n",
    "from Functions.FinalKMeans import kmeans\n",
    "from Functions.FinalKMeans import reconstruct_segmented_image\n",
    "from Functions.FinalKMeans import save_image\n",
    "from Functions.FinalKMeans import save_image_universal"
   ]
  },
  {
   "cell_type": "code",
   "execution_count": 3,
   "id": "b90423b7",
   "metadata": {},
   "outputs": [],
   "source": [
    "#Normalisiert grayscale\n",
    "#def normalize_grayscale(image):\n",
    " #   \"\"\"\n",
    "  #  Normalisiert ein Graustufenbild auf Werte zwischen 0 und 1 (float).\n",
    "   # \"\"\"\n",
    "    #image = image.astype(float)\n",
    "    #norm_img = (image - image.min()) / (image.max() - image.min())\n",
    "    #return norm_img"
   ]
  },
  {
   "cell_type": "code",
   "execution_count": 4,
   "id": "de6e1485",
   "metadata": {},
   "outputs": [],
   "source": [
    "gray_t13_bilateral = np.copy(plt.imread('Images/Datenvorbereitung_images/Otsu/Filtered_t13/t13_bilateral.tiff'))\n",
    "gray_t13_gauß = np.copy(plt.imread('Images/Datenvorbereitung_images/Otsu/Filtered_t13/t13_gauß.tiff'))\n",
    "gray_t13 = np.copy(plt.imread('Original_Images/Otsu/Data/N2DL-HeLa/img/t13.tif'))\n",
    "#t13_bilateral_norm = normalize_grayscale(t13_bilateral)\n",
    "#t13_gauß_norm = normalize_grayscale(t13_gauß)\n",
    "#t13_norm = normalize_grayscale(t13)\n",
    "\n",
    "\n"
   ]
  },
  {
   "cell_type": "code",
   "execution_count": 5,
   "id": "8a6be3a3",
   "metadata": {},
   "outputs": [],
   "source": [
    "#def init_centroids(features, k, random_seed=None):\n",
    " #   \"\"\"\n",
    "  #  Initialisiert k Zentroiden zufällig aus den Feature-Vektoren.\n",
    "   # \"\"\"\n",
    "    #np.random.seed(random_seed)\n",
    "    #indices = np.random.choice(features.shape[0], k, replace=False)\n",
    "    #return features[indices]\n",
    "\n",
    "#def euclidean_distance(a, b):\n",
    " #   \"\"\"\n",
    "  #  Berechnet die euklidische Distanz zwischen zwei Arrays a und b.\n",
    "   # a: (n_samples, n_features)\n",
    "    #b: (k, n_features)\n",
    "    #Rückgabe: (n_samples, k)\n",
    "    #\"\"\"\n",
    "    #return np.linalg.norm(a[:, None] - b[None, :], axis=-1)\n",
    "\n",
    "#def assign_to_centroids(features, centroids):\n",
    " #   \"\"\"\n",
    "  #  Ordnet jedem Feature den nächsten Zentroiden zu.\n",
    "   # \"\"\"\n",
    "    #dists = euclidean_distance(features, centroids)\n",
    "    #return np.argmin(dists, axis=1)\n",
    "\n",
    "#def update_centroids(features, labels, k):\n",
    " #   \"\"\"\n",
    "  #  Aktualisiert die Zentroiden als Mittelwert der zugeordneten Features.\n",
    "   # \"\"\"\n",
    "    #new_centroids = []\n",
    "    #for i in range(k):\n",
    "     #   cluster_points = features[labels == i]\n",
    "      #  if len(cluster_points) > 0:\n",
    "       #     new_centroids.append(cluster_points.mean(axis=0))\n",
    "        #else:\n",
    "            # Falls ein Cluster leer ist, wähle zufällig einen Punkt\n",
    "         #   new_centroids.append(features[np.random.choice(features.shape[0])])\n",
    "    #return np.array(new_centroids)\n",
    "\n",
    "#def kmeans_image_segmentation(image, k, max_iterations=100, random_seed=None):\n",
    " #   \"\"\"\n",
    "  #  Segmentiert ein normalisiertes Bild (Grayscale, HSV-1ch oder RGB) mit KMeans.\n",
    "   # \"\"\"\n",
    "    #img = image.copy()\n",
    "    #h, w = img.shape[:2]\n",
    "    ## Feature-Vektoren erzeugen\n",
    "    #if img.ndim == 2:  # Grayscale oder HSV (1 Kanal)\n",
    "     #   features = img.reshape(-1, 1)\n",
    "    #elif img.ndim == 3 and img.shape[2] == 3:  # RGB\n",
    "     #   features = img.reshape(-1, 3)\n",
    "    #else:\n",
    "     #   raise ValueError(\"Bildformat nicht unterstützt. Erwartet Graustufen, HSV (1 Kanal) oder RGB (3 Kanäle).\")\n",
    "    \n",
    "    #centroids = init_centroids(features, k, random_seed=random_seed)\n",
    "\n",
    "    #for _ in range(max_iterations):\n",
    "     #   labels = assign_to_centroids(features, centroids)\n",
    "      #  new_centroids = update_centroids(features, labels, k)\n",
    "       # if np.allclose(centroids, new_centroids):\n",
    "        #    break\n",
    "        #centroids = new_centroids\n",
    "\n",
    "    #label_img = labels.reshape(h, w)\n",
    "    #cmap = plt.cm.get_cmap('tab10', k)\n",
    "    #cluster_colors = cmap(np.arange(k))[:, :3]\n",
    "    #segmented_image = cluster_colors[label_img]\n",
    "\n",
    "\n",
    "    #return segmented_image, label_img\n",
    "\n",
    "# Beispielaufruf:\n",
    "# img = np.load('dein_bild.npy')  # Bild muss normalisiert (0-1) sein!\n",
    "# seg_img, labels = kmeans_image_segmentation(img, k=4, max_iterations=50)\n",
    "# plt.imshow(seg_img)\n",
    "# plt.axis('off')\n",
    "# plt.show()"
   ]
  },
  {
   "cell_type": "code",
   "execution_count": 9,
   "id": "b441e48c",
   "metadata": {},
   "outputs": [
    {
     "data": {
      "text/plain": [
       "<matplotlib.image.AxesImage at 0x1a2aebf83d0>"
      ]
     },
     "execution_count": 9,
     "metadata": {},
     "output_type": "execute_result"
    },
    {
     "data": {
      "image/png": "[encoded data removed]",
      "text/plain": [
       "<Figure size 640x480 with 1 Axes>"
      ]
     },
     "metadata": {},
     "output_type": "display_data"
    }
   ],
   "source": [
    "centroids_gray_t13_bilateral, labels_gray_t13_bilateral, clustered_gray_t13_bilateral = kmeans(gray_t13_bilateral, k=2, init_method='kmeans++', space='gray')\n",
    "centroids_gray_t13_gauß, labels_gray_t13_gauß, clustered_gray_t13_gauß = kmeans(gray_t13_gauß, k=2, init_method='kmeans++', space='gray')\n",
    "centroids_gray_t13, labels_gray_t13, clustered_gray_t13 = kmeans(gray_t13, k=2, init_method='kmeans++', space='gray')\n",
    "plt.imshow(clustered_gray_t13, cmap='gray')"
   ]
  },
  {
   "cell_type": "code",
   "execution_count": 7,
   "id": "c7a8fac3",
   "metadata": {},
   "outputs": [],
   "source": [
    "#save_image(clustered_t13_bilateral_norm[0], 'Images/Segmented_Images/clustered_t13_bilateral_norm.png')\n",
    "#save_image(clustered_t13_gauß_norm[0], 'Images/Segmented_Images/clustered_t13_gauß_norm.png')\n",
    "#save_image(clustered_t13_norm[0], 'Images/Segmented_Images/clustered_t13_norm.png')"
   ]
  },
  {
   "cell_type": "code",
   "execution_count": 10,
   "id": "f5d0f386",
   "metadata": {},
   "outputs": [],
   "source": [
    "#save_image_universal(clustered_gray_t13, 'Images/Segmented_Images/t13_for_filterevaluation/clustered_gray_t13_norm.png', space='gray')\n",
    "#save_image_universal(clustered_gray_t13_bilateral, 'Images/Segmented_Images/t13_for_filterevaluation/clustered_gray_t13_bilateral_norm.png', space='gray')\n",
    "save_image_universal(clustered_gray_t13_gauß, 'Images/Segmented_Images/t13_for_filterevaluation/clustered_gray_t13_gauß_norm.png', space='gray')"
   ]
  }
 ],
 "metadata": {
  "kernelspec": {
   "display_name": "Python 3",
   "language": "python",
   "name": "python3"
  },
  "language_info": {
   "codemirror_mode": {
    "name": "ipython",
    "version": 3
   },
   "file_extension": ".py",
   "mimetype": "text/x-python",
   "name": "python",
   "nbconvert_exporter": "python",
   "pygments_lexer": "ipython3",
   "version": "3.11.9"
  }
 },
 "nbformat": 4,
 "nbformat_minor": 5
}
