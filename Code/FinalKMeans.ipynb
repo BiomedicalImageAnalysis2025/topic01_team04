{
 "cells": [
  {
   "cell_type": "code",
   "execution_count": 1,
   "id": "d10f8a3a",
   "metadata": {},
   "outputs": [],
   "source": [
    "import numpy as np\n",
    "import matplotlib.pyplot as plt"
   ]
  },
  {
   "cell_type": "code",
   "execution_count": 3,
   "id": "d1d49f28",
   "metadata": {},
   "outputs": [],
   "source": [
    "from Functions.FinalKMeans import preprocess_rgb\n",
    "from Functions.FinalKMeans import preprocess_grayscale\n",
    "from Functions.FinalKMeans import preprocess_hsv\n",
    "from Functions.FinalKMeans import preprocess_image\n",
    "from Functions.FinalKMeans import init_centroids\n",
    "from Functions.FinalKMeans import assign_to_centroids\n",
    "from Functions.FinalKMeans import update_centroids\n",
    "from Functions.FinalKMeans import kmeans\n",
    "from Functions.FinalKMeans import reconstruct_segmented_image"
   ]
  },
  {
   "cell_type": "markdown",
   "id": "4a30327a",
   "metadata": {},
   "source": [
    "Load all for KMeans required RGB images"
   ]
  },
  {
   "cell_type": "code",
   "execution_count": 4,
   "id": "752d7179",
   "metadata": {},
   "outputs": [],
   "source": [
    "RGB_YeastCells = np.copy(plt.imread('Original_Images\\Clustering\\Data\\Yeast_Cells.jpg'))\n",
    "RGB_CellNuclei = np.copy(plt.imread('Original_Images\\Clustering\\Data\\Cell_Nuclei.tiff'))\n",
    "RGB_CellNuclei_GB = np.copy(plt.imread('Images\\Datenvorbereitung_Images\\CellNuclei\\Channel_CellNuclei\\CellNuclei_GB.tiff'))\n"
   ]
  },
  {
   "cell_type": "markdown",
   "id": "ea7954a8",
   "metadata": {},
   "source": [
    "Load all for KMeans required HSV images"
   ]
  },
  {
   "cell_type": "code",
   "execution_count": null,
   "id": "b7cb7edc",
   "metadata": {},
   "outputs": [],
   "source": [
    "HSV_YeastCells = np.copy(np.load('Images\\Datenvorbereitung_Images\\YeastCells\\HSV_Yeast\\HSV_YeastCells.npy'))\n",
    "HSV_YeastCells_median = np.copy(plt.imread('Images\\Datenvorbereitung_Images\\YeastCells\\HSV_Yeast\\Median_K7_HSV_YeastCells.jpg'))\n",
    "HSV_YeastCells_Hue = np.copy(plt.imread('Images\\Datenvorbereitung_Images\\YeastCells\\HSV_Yeast\\HSV_YeastCells_Hue.png'))\n",
    "HSV_YeastCells_Saturation = np.copy(plt.imread('Images\\Datenvorbereitung_Images\\YeastCells\\HSV_Yeast\\HSV_YeastCells_Saturation.png'))\n",
    "HSV_YeastCells_Value = np.copy(plt.imread('Images\\Datenvorbereitung_Images\\YeastCells\\HSV_Yeast\\HSV_YeastCells_Value.png'))\n",
    "HSV_CellNuclei = np.copy(np.load('Images\\Datenvorbereitung_Images\\CellNuclei\\HSV_CellNuclei\\HSV_CellNuclei.npy'))\n",
    "HSV_CellNuclei_Hue = np.copy(plt.imread('Images\\Datenvorbereitung_Images\\CellNuclei\\HSV_CellNuclei\\HSV_CellNuclei_Hue.tiff'))\n",
    "HSV_CellNuclei_Saturation = np.copy(plt.imread('Images\\Datenvorbereitung_Images\\CellNuclei\\HSV_CellNuclei\\HSV_CellNuclei_Saturation.tiff'))\n",
    "HSV_CellNuclei_Value = np.copy(plt.imread('Images\\Datenvorbereitung_Images\\CellNuclei\\HSV_CellNuclei\\HSV_CellNuclei_Value.tiff'))\n",
    "\n"
   ]
  },
  {
   "cell_type": "markdown",
   "id": "fe23cae5",
   "metadata": {},
   "source": [
    "Load all for KMeans required grayscale images"
   ]
  },
  {
   "cell_type": "code",
   "execution_count": 12,
   "id": "6fe0d77d",
   "metadata": {},
   "outputs": [],
   "source": [
    "gray_t13 = np.copy(plt.imread('Original_Images/Otsu/Data/N2DL-HeLa/img/t13.tif'))\n",
    "gray_t52 = np.copy(plt.imread('Original_Images/Otsu/Data/N2DL-HeLa/img/t52.tif'))\n",
    "gray_t75 = np.copy(plt.imread('Original_Images/Otsu/Data/N2DL-HeLa/img/t75.tif'))\n",
    "gray_t79 = np.copy(plt.imread('Original_Images/Otsu/Data/N2DL-HeLa/img/t79.tif'))"
   ]
  },
  {
   "cell_type": "code",
   "execution_count": null,
   "id": "c15adde5",
   "metadata": {},
   "outputs": [],
   "source": []
  }
 ],
 "metadata": {
  "kernelspec": {
   "display_name": "Python 3",
   "language": "python",
   "name": "python3"
  },
  "language_info": {
   "codemirror_mode": {
    "name": "ipython",
    "version": 3
   },
   "file_extension": ".py",
   "mimetype": "text/x-python",
   "name": "python",
   "nbconvert_exporter": "python",
   "pygments_lexer": "ipython3",
   "version": "3.11.9"
  }
 },
 "nbformat": 4,
 "nbformat_minor": 5
}
