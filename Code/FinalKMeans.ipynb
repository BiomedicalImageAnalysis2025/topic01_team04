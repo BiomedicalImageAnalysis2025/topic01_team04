{
 "cells": [
  {
   "cell_type": "code",
   "execution_count": 12,
   "id": "d10f8a3a",
   "metadata": {},
   "outputs": [],
   "source": [
    "import numpy as np\n",
    "import matplotlib.pyplot as plt\n",
    "import os # To save images\n",
    "from matplotlib import colors # To convert image models"
   ]
  },
  {
   "cell_type": "code",
   "execution_count": 13,
   "id": "d1d49f28",
   "metadata": {},
   "outputs": [],
   "source": [
    "from Functions.FinalKMeans import preprocess_rgb\n",
    "from Functions.FinalKMeans import preprocess_grayscale\n",
    "from Functions.FinalKMeans import preprocess_hsv\n",
    "from Functions.FinalKMeans import preprocess_image\n",
    "from Functions.FinalKMeans import init_centroids\n",
    "from Functions.FinalKMeans import assign_to_centroids\n",
    "from Functions.FinalKMeans import update_centroids\n",
    "from Functions.FinalKMeans import kmeans\n",
    "from Functions.FinalKMeans import reconstruct_segmented_image\n",
    "from Functions.FinalKMeans import save_image\n",
    "from Functions.FinalKMeans import save_image_universal"
   ]
  },
  {
   "cell_type": "markdown",
   "id": "4a30327a",
   "metadata": {},
   "source": [
    "# RGB\n",
    "Load all for KMeans required RGB images"
   ]
  },
  {
   "cell_type": "code",
   "execution_count": 14,
   "id": "752d7179",
   "metadata": {},
   "outputs": [],
   "source": [
    "RGB_YeastCells = np.copy(plt.imread('Original_Images\\Clustering\\Data\\Yeast_Cells.jpg'))\n",
    "RGB_CellNuclei = np.copy(plt.imread('Original_Images\\Clustering\\Data\\Cell_Nuclei.tiff'))\n",
    "RGB_CellNuclei_GB = np.copy(plt.imread('Images\\Datenvorbereitung_Images\\CellNuclei\\Channel_CellNuclei\\CellNuclei_GB.tiff'))\n"
   ]
  },
  {
   "cell_type": "markdown",
   "id": "7bf1213f",
   "metadata": {},
   "source": [
    "Run KMeans on RGB images"
   ]
  },
  {
   "cell_type": "code",
   "execution_count": 15,
   "id": "fba044b0",
   "metadata": {},
   "outputs": [],
   "source": [
    "centroids_RGB_YeastCells, labels_RGB_YeastCells, clustered_RGB_YeastCells = kmeans(RGB_YeastCells, k=2, init_method='kmeans++', space='rgb')\n",
    "centroids_RGB_CellNuclei, labels_RGB_CellNuclei, clustered_RGB_CellNuclei = kmeans(RGB_CellNuclei, k=2, init_method='kmeans++', space='rgb')\n",
    "centroids_RGB_CellNuclei_GB, labels_RGB_CellNuclei_GB, clustered_RGB_CellNuclei_GB = kmeans(RGB_CellNuclei_GB, k=2, init_method='kmeans++', space='rgb')"
   ]
  },
  {
   "cell_type": "markdown",
   "id": "2671168e",
   "metadata": {},
   "source": [
    "Save RGB images"
   ]
  },
  {
   "cell_type": "code",
   "execution_count": 16,
   "id": "6b806f7f",
   "metadata": {},
   "outputs": [],
   "source": [
    "#save_image(clustered_RGB_YeastCells, 'Images\\Segmented_Images\\SegIntoTwoClusters\\RGB_segmented_images\\clustered_RGB_norm_YeastCells.png')\n",
    "#save_image(clustered_RGB_CellNuclei, 'Images\\Segmented_Images\\SegIntoTwoClusters\\RGB_segmented_images\\clustered_RGB_norm_CellNuclei.png')\n",
    "#save_image(clustered_RGB_CellNuclei_GB, 'Images\\Segmented_Images\\SegIntoTwoClusters\\RGB_segmented_images\\clustered_RGB_norm_CellNuclei_GB.png')"
   ]
  },
  {
   "cell_type": "markdown",
   "id": "ea7954a8",
   "metadata": {},
   "source": [
    "# HSV\n",
    "Load all for KMeans required HSV images"
   ]
  },
  {
   "cell_type": "code",
   "execution_count": 17,
   "id": "b7cb7edc",
   "metadata": {},
   "outputs": [],
   "source": [
    "HSV_YeastCells = np.copy(np.load('Images\\Datenvorbereitung_Images\\YeastCells\\HSV_Yeast\\HSV_YeastCells.npy'))\n",
    "HSV_YeastCells_median = np.copy(plt.imread('Images\\Datenvorbereitung_Images\\YeastCells\\HSV_Yeast\\Median_K7_HSV_YeastCells.jpg'))\n",
    "HSV_YeastCells_Hue = np.copy(plt.imread('Images\\Datenvorbereitung_Images\\YeastCells\\HSV_Yeast\\HSV_YeastCells_Hue.png'))\n",
    "HSV_YeastCells_Saturation = np.copy(plt.imread('Images\\Datenvorbereitung_Images\\YeastCells\\HSV_Yeast\\HSV_YeastCells_Saturation.png'))\n",
    "HSV_YeastCells_Value = np.copy(plt.imread('Images\\Datenvorbereitung_Images\\YeastCells\\HSV_Yeast\\HSV_YeastCells_Value.png'))\n",
    "HSV_CellNuclei = np.copy(np.load('Images\\Datenvorbereitung_Images\\CellNuclei\\HSV_CellNuclei\\HSV_CellNuclei.npy'))\n",
    "HSV_CellNuclei_Hue = np.copy(plt.imread('Images\\Datenvorbereitung_Images\\CellNuclei\\HSV_CellNuclei\\HSV_CellNuclei_Hue.tiff'))\n",
    "HSV_CellNuclei_Saturation = np.copy(plt.imread('Images\\Datenvorbereitung_Images\\CellNuclei\\HSV_CellNuclei\\HSV_CellNuclei_Saturation.tiff'))\n",
    "HSV_CellNuclei_Value = np.copy(plt.imread('Images\\Datenvorbereitung_Images\\CellNuclei\\HSV_CellNuclei\\HSV_CellNuclei_Value.tiff'))\n",
    "\n"
   ]
  },
  {
   "cell_type": "markdown",
   "id": "cc08c0b4",
   "metadata": {},
   "source": [
    "Run KMeans on HSV images"
   ]
  },
  {
   "cell_type": "code",
   "execution_count": 18,
   "id": "186cc4f6",
   "metadata": {},
   "outputs": [],
   "source": [
    "centroids_HSV_YeastCells, labels_HSV_YeastCells, clustered_HSV_YeastCells = kmeans(HSV_YeastCells, k=2, init_method='kmeans++', space='hsv')\n",
    "centroids_HSV_YeastCells_median, labels_HSV_YeastCells_median, clustered_HSV_YeastCells_median = kmeans(HSV_YeastCells_median, k=2, init_method='kmeans++', space='hsv')\n",
    "centroids_HSV_YeastCells_Hue, labels_HSV_YeastCells_Hue, clustered_HSV_YeastCells_Hue = kmeans(HSV_YeastCells_Hue, k=2, init_method='kmeans++', space='hsv')\n",
    "centroids_HSV_YeastCells_Saturation, labels_HSV_YeastCells_Saturation, clustered_HSV_YeastCells_Saturation = kmeans(HSV_YeastCells_Saturation, k=2, init_method='kmeans++', space='hsv')\n",
    "centroids_HSV_YeastCells_Value, labels_HSV_YeastCells_Value, clustered_HSV_YeastCells_Value = kmeans(HSV_YeastCells_Value, k=2, init_method='kmeans++', space='hsv')\n",
    "centroids_HSV_CellNuclei, labels_HSV_CellNuclei, clustered_HSV_CellNuclei = kmeans(HSV_CellNuclei, k=2, init_method='kmeans++', space='hsv')\n",
    "centroids_HSV_CellNuclei_Hue, labels_HSV_CellNuclei_Hue, clustered_HSV_CellNuclei_Hue = kmeans(HSV_CellNuclei_Hue, k=2, init_method='kmeans++', space='hsv')\n",
    "centroids_HSV_CellNuclei_Saturation, labels_HSV_CellNuclei_Saturation, clustered_HSV_CellNuclei_Saturation = kmeans(HSV_CellNuclei_Saturation, k=2, init_method='kmeans++', space='hsv')\n",
    "centroids_HSV_CellNuclei_Value, labels_HSV_CellNuclei_Value, clustered_HSV_CellNuclei_Value = kmeans(HSV_CellNuclei_Value, k=2, init_method='kmeans++', space='hsv')\n",
    "\n"
   ]
  },
  {
   "cell_type": "markdown",
   "id": "4950e7e2",
   "metadata": {},
   "source": [
    "Save HSV images"
   ]
  },
  {
   "cell_type": "code",
   "execution_count": 19,
   "id": "04c01536",
   "metadata": {},
   "outputs": [],
   "source": [
    "#save_image(clustered_HSV_YeastCells, 'Images\\Segmented_Images\\SegIntoTwoClusters\\HSV_segmented_images\\clustered_HSV_norm_YeastCells.png')\n",
    "#save_image(clustered_HSV_YeastCells_median, 'Images\\Segmented_Images\\SegIntoTwoClusters\\HSV_segmented_images\\clustered_HSV_norm_YeastCells_median.png')\n",
    "#save_image(clustered_HSV_YeastCells_Hue, 'Images\\Segmented_Images\\SegIntoTwoClusters\\HSV_segmented_images\\clustered_HSV_norm_YeastCells_Hue.png')\n",
    "#save_image(clustered_HSV_YeastCells_Saturation, 'Images\\Segmented_Images\\SegIntoTwoClusters\\HSV_segmented_images\\clustered_HSV_norm_YeastCells_Saturation.png')\n",
    "#save_image(clustered_HSV_YeastCells_Value, 'Images\\Segmented_Images\\SegIntoTwoClusters\\HSV_segmented_images\\clustered_HSV_norm_YeastCells_Value.png')\n",
    "#save_image(clustered_HSV_CellNuclei, 'Images\\Segmented_Images\\SegIntoTwoClusters\\HSV_segmented_images\\clustered_HSV_norm_CellNuclei.png')\n",
    "#save_image(clustered_HSV_CellNuclei_Hue, 'Images\\Segmented_Images\\SegIntoTwoClusters\\HSV_segmented_images\\clustered_HSV_norm_CellNuclei_Hue.png')\n",
    "#save_image(clustered_HSV_CellNuclei_Saturation, 'Images\\Segmented_Images\\SegIntoTwoClusters\\HSV_segmented_images\\clustered_HSV_norm_CellNuclei_Saturation.png')\n",
    "#save_image(clustered_HSV_CellNuclei_Value, 'Images\\Segmented_Images\\SegIntoTwoClusters\\HSV_segmented_images\\clustered_HSV_norm_CellNuclei_Value.png')  "
   ]
  },
  {
   "cell_type": "markdown",
   "id": "fe23cae5",
   "metadata": {},
   "source": [
    "# Grayscale\n",
    "Load all for KMeans required grayscale images"
   ]
  },
  {
   "cell_type": "code",
   "execution_count": 20,
   "id": "6fe0d77d",
   "metadata": {},
   "outputs": [],
   "source": [
    "gray_t13 = np.copy(plt.imread('Original_Images/Otsu/Data/N2DL-HeLa/img/t13.tif'))\n",
    "gray_t52 = np.copy(plt.imread('Original_Images/Otsu/Data/N2DL-HeLa/img/t52.tif'))\n",
    "gray_t75 = np.copy(plt.imread('Original_Images/Otsu/Data/N2DL-HeLa/img/t75.tif'))\n",
    "gray_t79 = np.copy(plt.imread('Original_Images/Otsu/Data/N2DL-HeLa/img/t79.tif'))"
   ]
  },
  {
   "cell_type": "markdown",
   "id": "eef88faf",
   "metadata": {},
   "source": [
    "Run KMeans on grayscale images"
   ]
  },
  {
   "cell_type": "code",
   "execution_count": 21,
   "id": "1df16dd1",
   "metadata": {},
   "outputs": [],
   "source": [
    "centroids_gray_t13, labels_gray_t13, clustered_gray_t13 = kmeans(gray_t13, k=2, init_method='kmeans++', space='gray')\n",
    "centroids_gray_t52, labels_gray_t52, clustered_gray_t52 = kmeans(gray_t52, k=2, init_method='kmeans++', space='gray')\n",
    "centroids_gray_t75, labels_gray_t75, clustered_gray_t75 = kmeans(gray_t75, k=2, init_method='kmeans++', space='gray')\n",
    "centroids_gray_t79, labels_gray_t79, clustered_gray_t79 = kmeans(gray_t79, k=2, init_method='kmeans++', space='gray') "
   ]
  },
  {
   "cell_type": "markdown",
   "id": "28213d25",
   "metadata": {},
   "source": [
    "Save grayscale images"
   ]
  },
  {
   "cell_type": "code",
   "execution_count": null,
   "id": "c15adde5",
   "metadata": {},
   "outputs": [],
   "source": [
    "#save_image_universal(clustered_gray_t13, 'Images\\Segmented_Images\\SegIntoTwoClusters\\grayscale_segmented_images\\clustered_gray_norm_t13.png', space='gray')\n",
    "#save_image_universal(clustered_gray_t52, 'Images\\Segmented_Images\\SegIntoTwoClusters\\grayscale_segmented_images\\clustered_gray_norm_t52.png', space='gray')\n",
    "#save_image_universal(clustered_gray_t75, 'Images\\Segmented_Images\\SegIntoTwoClusters\\grayscale_segmented_images\\clustered_gray_norm_t75.png', space='gray')\n",
    "#save_image_universal(clustered_gray_t79, 'Images\\Segmented_Images\\SegIntoTwoClusters\\grayscale_segmented_images\\clustered_gray_norm_t79.png', space='gray') "
   ]
  }
 ],
 "metadata": {
  "kernelspec": {
   "display_name": "Python 3",
   "language": "python",
   "name": "python3"
  },
  "language_info": {
   "codemirror_mode": {
    "name": "ipython",
    "version": 3
   },
   "file_extension": ".py",
   "mimetype": "text/x-python",
   "name": "python",
   "nbconvert_exporter": "python",
   "pygments_lexer": "ipython3",
   "version": "3.11.9"
  }
 },
 "nbformat": 4,
 "nbformat_minor": 5
}
